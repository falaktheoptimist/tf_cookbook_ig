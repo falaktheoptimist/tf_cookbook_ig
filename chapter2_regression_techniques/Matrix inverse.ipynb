{
 "cells": [
  {
   "cell_type": "code",
   "execution_count": 1,
   "metadata": {},
   "outputs": [],
   "source": [
    "%matplotlib inline\n",
    "from matplotlib import pyplot as plt\n",
    "import numpy as np\n",
    "import tensorflow as tf\n"
   ]
  },
  {
   "cell_type": "code",
   "execution_count": 2,
   "metadata": {},
   "outputs": [],
   "source": [
    "A = np.array([3.0, 2.0])\n",
    "\n",
    "x = np.arange(0,10,0.1)\n",
    "ones_column = np.ones((x.shape[0],1), dtype= np.float32)\n",
    "x_np =  np.column_stack((x, ones_column))\n",
    "y_np = np.dot(x_np, A) + np.random.normal(0, 0.9, 100)"
   ]
  },
  {
   "cell_type": "code",
   "execution_count": 3,
   "metadata": {},
   "outputs": [
    {
     "name": "stdout",
     "output_type": "stream",
     "text": [
      "(100,)\n"
     ]
    }
   ],
   "source": [
    "x_np.shape\n",
    "print(y_np.shape)"
   ]
  },
  {
   "cell_type": "code",
   "execution_count": 4,
   "metadata": {},
   "outputs": [],
   "source": [
    "tf.reset_default_graph()\n",
    "sess = tf.Session()\n",
    "x_tensor = tf.constant(x_np)\n",
    "y_tensor = tf.constant(y_np, shape = [y_np.shape[0],1])"
   ]
  },
  {
   "cell_type": "code",
   "execution_count": 5,
   "metadata": {},
   "outputs": [],
   "source": [
    "xt_x = tf.matmul(tf.transpose(x_tensor), x_tensor)\n",
    "xt_x_inv = tf.matrix_inverse(xt_x)\n",
    "product = tf.matmul(xt_x_inv, tf.transpose(x_tensor))\n",
    "solution = tf.matmul(product, y_tensor)\n",
    "A_pred = sess.run(solution)"
   ]
  },
  {
   "cell_type": "code",
   "execution_count": 6,
   "metadata": {},
   "outputs": [
    {
     "data": {
      "text/plain": [
       "array([[ 3.05861805],\n",
       "       [ 1.83375255]])"
      ]
     },
     "execution_count": 6,
     "metadata": {},
     "output_type": "execute_result"
    }
   ],
   "source": [
    "A_pred"
   ]
  },
  {
   "cell_type": "code",
   "execution_count": 8,
   "metadata": {},
   "outputs": [
    {
     "name": "stdout",
     "output_type": "stream",
     "text": [
      "slope: 3.05861804758\n",
      "y_intercept: 1.8337525521\n"
     ]
    },
    {
     "data": {
      "image/png": "[encoded data removed]",
      "text/plain": [
       "<matplotlib.figure.Figure at 0x7f4bd45e5278>"
      ]
     },
     "metadata": {},
     "output_type": "display_data"
    }
   ],
   "source": [
    "slope = A_pred[0][0]\n",
    "y_intercept = A_pred[1][0]\n",
    "print('slope: ' + str(slope))\n",
    "print('y_intercept: ' + str(y_intercept))\n",
    "\n",
    "best_fit = np.matmul(x_np, A_pred)\n",
    "plt.figure(figsize=[10,6])\n",
    "plt.plot(x, y_np, 'o', label='Data')\n",
    "plt.plot(x, best_fit, 'r-', label='Best fit line', linewidth=3)\n",
    "plt.legend(loc='upper left', fontsize='large')\n",
    "plt.show()"
   ]
  },
  {
   "cell_type": "code",
   "execution_count": null,
   "metadata": {},
   "outputs": [],
   "source": []
  }
 ],
 "metadata": {
  "kernelspec": {
   "display_name": "Python 3",
   "language": "python",
   "name": "python3"
  },
  "language_info": {
   "codemirror_mode": {
    "name": "ipython",
    "version": 3
   },
   "file_extension": ".py",
   "mimetype": "text/x-python",
   "name": "python",
   "nbconvert_exporter": "python",
   "pygments_lexer": "ipython3",
   "version": "3.5.2"
  }
 },
 "nbformat": 4,
 "nbformat_minor": 2
}
