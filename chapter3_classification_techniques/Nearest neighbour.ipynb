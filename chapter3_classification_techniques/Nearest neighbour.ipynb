{
 "cells": [
  {
   "cell_type": "code",
   "execution_count": null,
   "metadata": {},
   "outputs": [],
   "source": [
    "import tensorflow as tf\n",
    "import numpy as np \n",
    "# Get MNIST data- from Tensorflow example, and get it according to our problem\n",
    "from tensorflow.examples.tutorials.mnist import input_data"
   ]
  },
  {
   "cell_type": "code",
   "execution_count": null,
   "metadata": {},
   "outputs": [],
   "source": [
    "mnist = input_data.read_data_sets(train_dir=\"/tmp/mnist/\", one_hot=True)\n",
    "\n",
    "features_train = mnist.train.images\n",
    "labels_train = mnist.train.labels\n",
    "\n",
    "features_test = mnist.test.images\n",
    "labels_test = mnist.test.labels\n",
    "\n",
    "train_shape = features_train.shape\n",
    "num_features = train_shape[-1] # Get the last dimension of shape, which is number of features"
   ]
  },
  {
   "cell_type": "code",
   "execution_count": null,
   "metadata": {},
   "outputs": [],
   "source": [
    "# tf Graph Input\n",
    "features_train_g = tf.placeholder(\"float\", [None, num_features])\n",
    "features_test_g = tf.placeholder(\"float\", [num_features])\n",
    "\n",
    "#l1_dist = tf.reduce_sum(tf.abs(tf.add(features_train_g, tf.negative(features_test_g))), reduction_indices=1)\n",
    "l2_dist = tf.sqrt(tf.reduce_sum(tf.squared_difference(features_train_g,features_test_g),reduction_indices=1))\n",
    "pred = tf.arg_min(l2_dist,0)\n",
    "\n",
    "\n",
    "accuracy = 0\n",
    "\n",
    "# Initialize the variables\n",
    "init = tf.global_variables_initializer()\n",
    "\n",
    "with tf.Session() as sess:\n",
    "\n",
    "    # Run the initializer\n",
    "    sess.run(init)\n",
    "\n",
    "    # loop over test data\n",
    "    num_test_samples = len(features_test)\n",
    "    for i in range(num_test_samples):\n",
    "        if i % 100 == 0:\n",
    "            print(i,\"/\",num_test_samples) \n",
    "        # Get nearest neighbor\n",
    "        nn_index = sess.run(pred, feed_dict={features_train_g: features_train, features_test_g: features_test[i, :]})\n",
    "        # Get nearest neighbor class label and compare it to its true label\n",
    "        # Calculate accuracy\n",
    "        if np.argmax(labels_train[nn_index]) == np.argmax(labels_test[i]):\n",
    "            accuracy += 1\n",
    "        print(\"Test\", i, \"Prediction:\", np.argmax(labels_train[nn_index]), \\\n",
    "            \"True Class:\", np.argmax(labels_test[i]), \"Total correct predicted:\",accuracy)\n",
    "            \n",
    "    print(\"Accuracy:\", accuracy)\n",
    "    accuracy = accuracy / num_test_samples\n",
    "    print(\"Done!\")\n",
    "    print(\"Accuracy:\", accuracy)"
   ]
  }
 ],
 "metadata": {
  "kernelspec": {
   "display_name": "Python 2",
   "language": "python",
   "name": "python2"
  },
  "language_info": {
   "codemirror_mode": {
    "name": "ipython",
    "version": 2
   },
   "file_extension": ".py",
   "mimetype": "text/x-python",
   "name": "python",
   "nbconvert_exporter": "python",
   "pygments_lexer": "ipython2",
   "version": "2.7.12"
  }
 },
 "nbformat": 4,
 "nbformat_minor": 2
}
